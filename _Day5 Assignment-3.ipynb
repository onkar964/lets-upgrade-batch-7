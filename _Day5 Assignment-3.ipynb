{
 "cells": [
  {
   "cell_type": "markdown",
   "metadata": {},
   "source": [
    "# 1.Make a Lambda Function for capitalizing the whole sentences passed using arguments & map all the sentences in the list ,with the Lambada"
   ]
  },
  {
   "cell_type": "code",
   "execution_count": 1,
   "metadata": {},
   "outputs": [
    {
     "name": "stdout",
     "output_type": "stream",
     "text": [
      "The original string is : Hello Guys Let's Upgrade\n",
      "The uppercase characters in string are : ['H', 'G', 'L', 'U']\n"
     ]
    }
   ],
   "source": [
    "# initializing string  \n",
    "test_str = \"Hello Guys Let's Upgrade\"\n",
    "print(\"The original string is : \" + str(test_str)) \n",
    "# Using filter() + lambda \n",
    "res = list(filter(lambda c: c.isupper(), test_str)) \n",
    "print(\"The uppercase characters in string are : \" + str(res)) \n"
   ]
  },
  {
   "cell_type": "code",
   "execution_count": null,
   "metadata": {},
   "outputs": [],
   "source": []
  }
 ],
 "metadata": {
  "kernelspec": {
   "display_name": "Python 3",
   "language": "python",
   "name": "python3"
  },
  "language_info": {
   "codemirror_mode": {
    "name": "ipython",
    "version": 3
   },
   "file_extension": ".py",
   "mimetype": "text/x-python",
   "name": "python",
   "nbconvert_exporter": "python",
   "pygments_lexer": "ipython3",
   "version": "3.8.3"
  }
 },
 "nbformat": 4,
 "nbformat_minor": 4
}
