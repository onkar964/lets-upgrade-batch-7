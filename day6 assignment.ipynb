{
 "cells": [
  {
   "cell_type": "markdown",
   "metadata": {},
   "source": [
    "# 1.For this challenge,create a bank account class that has two attributes\n",
    ">ownerName,\n",
    ">balance\n",
    "   and two methods \n",
    "> deposit\n",
    ",withdraw . As an added requirement withdrawls may not exceed the available balance\n",
    "Instance your class make several deposits and withdrawels and test to make sure the account can't be overdrawn"
   ]
  },
  {
   "cell_type": "code",
   "execution_count": 6,
   "metadata": {},
   "outputs": [
    {
     "name": "stdout",
     "output_type": "stream",
     "text": [
      "Hello!!! Welcome to the Deposit & Withdrawal Machine\n",
      "Enter amount to be Deposited: 1548956\n",
      "\n",
      " Amount Deposited: 1548956.0\n",
      "Enter amount to be Withdrawn: 1528\n",
      "\n",
      " You Withdrew: 1528.0\n",
      "\n",
      " Net Available Balance= 1547428.0\n"
     ]
    }
   ],
   "source": [
    "class Bank_Account: \n",
    "    def __init__(self): \n",
    "       \n",
    "        self.balance=0\n",
    "        print(\"Hello!!! Welcome to the Deposit & Withdrawal Machine\") \n",
    "       \n",
    "  \n",
    "    def deposit(self): \n",
    "        amount=float(input(\"Enter amount to be Deposited: \")) \n",
    "        self.balance += amount \n",
    "        print(\"\\n Amount Deposited:\",amount) \n",
    "  \n",
    "    def withdraw(self): \n",
    "        amount = float(input(\"Enter amount to be Withdrawn: \")) \n",
    "        if self.balance>=amount: \n",
    "            self.balance-=amount \n",
    "            print(\"\\n You Withdrew:\", amount) \n",
    "        else: \n",
    "            print(\"\\n Insufficient balance  \") \n",
    "  \n",
    "    def display(self): \n",
    "        print(\"\\n Net Available Balance=\",self.balance) \n",
    "  \n",
    "\n",
    "s = Bank_Account() \n",
    "   \n",
    "\n",
    "s.deposit() \n",
    "s.withdraw() \n",
    "s.display()"
   ]
  },
  {
   "cell_type": "markdown",
   "metadata": {},
   "source": [
    "# 2.For the challange create a Cone class that has two attributes \n",
    "R=radius , h = height and two methods Volume = pie*r*r*(h/3) ; Surface area : basse : pie *r*r ; side : pie *r*sq.rt(r*r+h*h)\n",
    "            Make only one class with functions ,as in where required import Math"
   ]
  },
  {
   "cell_type": "code",
   "execution_count": 7,
   "metadata": {},
   "outputs": [
    {
     "name": "stdout",
     "output_type": "stream",
     "text": [
      "Volume Of Cone :  314.15926535897927\n",
      "Surface Area Of Cone :  282.7433388230814\n"
     ]
    }
   ],
   "source": [
    "import math \n",
    "pi = math.pi \n",
    "  \n",
    "\n",
    "def volume(r, h): \n",
    "    return (1 / 3) * pi * r * r * h \n",
    "  \n",
    "\n",
    "def surfacearea(r, s): \n",
    "    return pi * r * s + pi * r * r \n",
    "  \n",
    "radius = float(5) \n",
    "height = float(12) \n",
    "slat_height = float(13) \n",
    "print( \"Volume Of Cone : \", volume(radius, height) ) \n",
    "print( \"Surface Area Of Cone : \", surfacearea(radius, slat_height) ) \n"
   ]
  },
  {
   "cell_type": "code",
   "execution_count": null,
   "metadata": {},
   "outputs": [],
   "source": []
  }
 ],
 "metadata": {
  "kernelspec": {
   "display_name": "Python 3",
   "language": "python",
   "name": "python3"
  },
  "language_info": {
   "codemirror_mode": {
    "name": "ipython",
    "version": 3
   },
   "file_extension": ".py",
   "mimetype": "text/x-python",
   "name": "python",
   "nbconvert_exporter": "python",
   "pygments_lexer": "ipython3",
   "version": "3.8.3"
  }
 },
 "nbformat": 4,
 "nbformat_minor": 4
}
