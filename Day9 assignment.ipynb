{
 "cells": [
  {
   "cell_type": "markdown",
   "metadata": {},
   "source": [
    "# Question 1"
   ]
  },
  {
   "cell_type": "code",
   "execution_count": 18,
   "metadata": {},
   "outputs": [
    {
     "name": "stdout",
     "output_type": "stream",
     "text": [
      "Requirement already satisfied: pylint in c:\\program files\\python36-32\\lib\\site-packages (2.6.0)\n",
      "Requirement already satisfied: astroid<=2.5,>=2.4.0 in c:\\users\\imh\\appdata\\roaming\\python\\python36\\site-packages (from pylint) (2.4.2)\n",
      "Requirement already satisfied: isort<6,>=4.2.5 in c:\\users\\imh\\appdata\\roaming\\python\\python36\\site-packages (from pylint) (4.3.21)\n",
      "Requirement already satisfied: mccabe<0.7,>=0.6 in c:\\users\\imh\\appdata\\roaming\\python\\python36\\site-packages (from pylint) (0.6.1)\n",
      "Requirement already satisfied: toml>=0.7.1 in c:\\users\\imh\\appdata\\roaming\\python\\python36\\site-packages (from pylint) (0.10.1)\n",
      "Requirement already satisfied: colorama; sys_platform == \"win32\" in c:\\users\\imh\\appdata\\roaming\\python\\python36\\site-packages (from pylint) (0.4.3)\n",
      "Requirement already satisfied: lazy-object-proxy==1.4.* in c:\\users\\imh\\appdata\\roaming\\python\\python36\\site-packages (from astroid<=2.5,>=2.4.0->pylint) (1.4.3)\n",
      "Requirement already satisfied: six~=1.12 in c:\\program files\\python36-32\\lib\\site-packages (from astroid<=2.5,>=2.4.0->pylint) (1.15.0)\n",
      "Requirement already satisfied: wrapt~=1.11 in c:\\users\\imh\\appdata\\roaming\\python\\python36\\site-packages (from astroid<=2.5,>=2.4.0->pylint) (1.12.1)\n",
      "Requirement already satisfied: typed-ast<1.5,>=1.4.0; implementation_name == \"cpython\" and python_version < \"3.8\" in c:\\users\\imh\\appdata\\roaming\\python\\python36\\site-packages (from astroid<=2.5,>=2.4.0->pylint) (1.4.1)\n"
     ]
    }
   ],
   "source": [
    "! pip install pylint"
   ]
  },
  {
   "cell_type": "code",
   "execution_count": 29,
   "metadata": {},
   "outputs": [
    {
     "name": "stdout",
     "output_type": "stream",
     "text": [
      "Overwriting prime.py\n"
     ]
    }
   ],
   "source": [
    "%%writefile prime.py\n",
    "\n",
    "'''\n",
    "Creating a python file for finding whethere the given number is prime number or not.\n",
    "'''\n",
    "\n",
    "def is_prime(given_no):\n",
    "    '''\n",
    "    function to check for prime number.\n",
    "    '''\n",
    "    if given_no >= 1:\n",
    "        for i in range(2, given_no):\n",
    "            if (given_no % i) == 0:\n",
    "                final_result=\"Not Prime\"\n",
    "            else:\n",
    "                final_result=\"Prime\"\n",
    "    else:\n",
    "        final_result=\"Not Prime\"\n",
    "    return final_result"
   ]
  },
  {
   "cell_type": "code",
   "execution_count": 31,
   "metadata": {},
   "outputs": [
    {
     "name": "stdout",
     "output_type": "stream",
     "text": [
      "\n",
      "--------------------------------------------------------------------\n",
      "\n",
      "Your code has been rated at 10.00/10 (previous run: 10.00/10, +0.00)\n",
      "\n",
      "\n",
      "\n"
     ]
    }
   ],
   "source": [
    "! pylint \"prime.py\""
   ]
  },
  {
   "cell_type": "code",
   "execution_count": 30,
   "metadata": {},
   "outputs": [
    {
     "name": "stdout",
     "output_type": "stream",
     "text": [
      "\n",
      "-------------------------------------------------------------------\n",
      "\n",
      "Your code has been rated at 10.00/10 (previous run: 2.50/10, +7.50)\n",
      "\n",
      "\n",
      "\n"
     ]
    }
   ],
   "source": [
    "! pylint \"prime.py\""
   ]
  },
  {
   "cell_type": "code",
   "execution_count": 24,
   "metadata": {},
   "outputs": [
    {
     "name": "stdout",
     "output_type": "stream",
     "text": [
      "************* Module prime\n",
      "prime.py:1:0: C0114: Missing module docstring (missing-module-docstring)\n",
      "prime.py:1:0: C0116: Missing function or method docstring (missing-function-docstring)\n",
      "\n",
      "-----------------------------------\n",
      "\n",
      "Your code has been rated at 7.50/10\n",
      "\n",
      "\n",
      "\n"
     ]
    }
   ],
   "source": [
    "! pylint \"prime.py\""
   ]
  },
  {
   "cell_type": "code",
   "execution_count": 4,
   "metadata": {},
   "outputs": [
    {
     "name": "stdout",
     "output_type": "stream",
     "text": [
      "Writing primeUnitTest.py\n"
     ]
    }
   ],
   "source": [
    "%%writefile primeUnitTest.py\n",
    "\n",
    "import unittest\n",
    "import prime\n",
    "\n",
    "class testPrime(unittest.TestCase):\n",
    "    def testSinglePrime(self):\n",
    "        a = 3\n",
    "        result = prime.is_prime(a)\n",
    "        self.assertEquals(result, \"Prime\")\n",
    "        \n",
    "    def testingDoublePrime(self):\n",
    "        b = 11 \n",
    "        result = prime.is_prime(b)\n",
    "        self.assertEquals(result, \"Prime\")\n",
    "\n",
    "if __name__ == \"__main__\":\n",
    "    unittest.main()"
   ]
  },
  {
   "cell_type": "code",
   "execution_count": 1,
   "metadata": {},
   "outputs": [
    {
     "name": "stderr",
     "output_type": "stream",
     "text": [
      "primeUnitTest.py:9: DeprecationWarning: Please use assertEqual instead.\n",
      "  self.assertEquals(result, \"Prime\")\n",
      "..\n",
      "----------------------------------------------------------------------\n",
      "Ran 2 tests in 0.002s\n",
      "\n",
      "OK\n"
     ]
    }
   ],
   "source": [
    "! python \"primeUnitTest.py\""
   ]
  },
  {
   "cell_type": "markdown",
   "metadata": {},
   "source": [
    "# Question 2"
   ]
  },
  {
   "cell_type": "code",
   "execution_count": 12,
   "metadata": {},
   "outputs": [],
   "source": [
    "lst = list(range(1,1000+1))"
   ]
  },
  {
   "cell_type": "code",
   "execution_count": 13,
   "metadata": {},
   "outputs": [],
   "source": [
    "# Generator to generate armstrong number\n",
    "\n",
    "def armstrong(lst):    \n",
    "    for num in lst:\n",
    "        s = 0\n",
    "        temp = num\n",
    "        while temp > 0:\n",
    "            d = temp % 10\n",
    "            s += d ** 3\n",
    "            temp //= 10\n",
    "        if num == s:\n",
    "            yield num"
   ]
  },
  {
   "cell_type": "code",
   "execution_count": 14,
   "metadata": {},
   "outputs": [
    {
     "data": {
      "text/plain": [
       "[1, 153, 370, 371, 407]"
      ]
     },
     "execution_count": 14,
     "metadata": {},
     "output_type": "execute_result"
    }
   ],
   "source": [
    "list(armstrong(lst))"
   ]
  }
 ],
 "metadata": {
  "kernelspec": {
   "display_name": "Python 3",
   "language": "python",
   "name": "python3"
  },
  "language_info": {
   "codemirror_mode": {
    "name": "ipython",
    "version": 3
   },
   "file_extension": ".py",
   "mimetype": "text/x-python",
   "name": "python",
   "nbconvert_exporter": "python",
   "pygments_lexer": "ipython3",
   "version": "3.6.2"
  }
 },
 "nbformat": 4,
 "nbformat_minor": 4
}
